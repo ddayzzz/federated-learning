{
 "cells": [
  {
   "cell_type": "markdown",
   "metadata": {},
   "source": [
    "## Interpretability Result in FedMA\n",
    "\n",
    "In this jupyter notebook, we provide the code to reproduce the \"Interpretability\" experiments (see Section 3 for more details) in FedMA paper."
   ]
  },
  {
   "cell_type": "code",
   "execution_count": 12,
   "metadata": {
    "pycharm": {
     "is_executing": false
    }
   },
   "outputs": [],
   "source": [
    "import pickle\n",
    "import copy\n",
    "from sklearn.preprocessing import normalize\n",
    "from utils import *\n",
    "\n",
    "from matching.pfnm import layer_wise_group_descent\n",
    "from matching.pfnm import layer_wise_group_descent_comm\n",
    "from matching.pfnm import block_patching, patch_weights\n",
    "from matching.gaus_marginal_matching import match_local_atoms\n",
    "\n",
    "import logging\n",
    "\n",
    "from model import *"
   ]
  },
  {
   "cell_type": "code",
   "execution_count": 13,
   "metadata": {
    "pycharm": {
     "is_executing": false
    }
   },
   "outputs": [],
   "source": [
    "dummy_cnn = ModerateCNN()\n",
    "layer_type = []\n",
    "for (k, v) in dummy_cnn.state_dict().items():\n",
    "    layer_type.append(k)"
   ]
  },
  {
   "cell_type": "code",
   "execution_count": 14,
   "metadata": {
    "pycharm": {
     "is_executing": false
    }
   },
   "outputs": [],
   "source": [
    "logging.basicConfig()\n",
    "logger = logging.getLogger()\n",
    "logger.setLevel(logging.INFO)"
   ]
  },
  {
   "cell_type": "code",
   "execution_count": 4,
   "metadata": {
    "pycharm": {
     "is_executing": false
    }
   },
   "outputs": [],
   "source": [
    "# we load retrained weights here:\n",
    "with open(\"./first_round_retraining_weights\", \"rb\") as out_file:\n",
    "    batch_weights = pickle.load(out_file)"
   ]
  },
  {
   "cell_type": "code",
   "execution_count": 15,
   "metadata": {
    "pycharm": {
     "is_executing": false
    }
   },
   "outputs": [],
   "source": [
    "n_layers = int(len(batch_weights[0]) / 2)\n",
    "num_workers = len(batch_weights)\n",
    "\n",
    "matching_shapes_old = []\n",
    "matching_shapes_new = []\n",
    "\n",
    "first_fc_index = None\n",
    "gamma = 5.0\n",
    "sigma = 1.0\n",
    "sigma0 = 1.0\n",
    "n_classes = 10\n",
    "it=5"
   ]
  },
  {
   "cell_type": "code",
   "execution_count": 16,
   "metadata": {
    "pycharm": {
     "is_executing": false
    }
   },
   "outputs": [
    {
     "name": "stdout",
     "text": [
      "Files already downloaded and verified\n",
      "Files already downloaded and verified\n"
     ],
     "output_type": "stream"
    }
   ],
   "source": [
    "args_dataset = \"cifar10\"\n",
    "args_datadir = \"../data/cifar10\"\n",
    "args_batch_size = 64\n",
    "\n",
    "train_dl_global, test_dl_global = get_dataloader(args_dataset, args_datadir, args_batch_size, 32)\n",
    "matching_shapes = []"
   ]
  },
  {
   "cell_type": "code",
   "execution_count": 17,
   "metadata": {
    "pycharm": {
     "is_executing": false
    }
   },
   "outputs": [],
   "source": [
    "def ___trans_next_conv_layer_forward(layer_weight, next_layer_shape):\n",
    "    reshaped = layer_weight.reshape(next_layer_shape).transpose((1, 0, 2, 3)).reshape((next_layer_shape[1], -1))\n",
    "    return reshaped\n",
    "\n",
    "def ___trans_next_conv_layer_backward(layer_weight, next_layer_shape):\n",
    "    reconstructed_next_layer_shape = (next_layer_shape[1], next_layer_shape[0], next_layer_shape[2], next_layer_shape[3])\n",
    "    reshaped = layer_weight.reshape(reconstructed_next_layer_shape).transpose(1, 0, 2, 3).reshape(next_layer_shape[0], -1)\n",
    "    return reshaped"
   ]
  },
  {
   "cell_type": "code",
   "execution_count": 18,
   "metadata": {
    "pycharm": {
     "is_executing": false
    }
   },
   "outputs": [
    {
     "name": "stdout",
     "text": [
      "(32, 27)\n",
      "(70, 288)\n",
      "Are those weights equal: True\n"
     ],
     "output_type": "stream"
    }
   ],
   "source": [
    "import copy\n",
    "\n",
    "test_weight = copy.deepcopy(batch_weights[0][2])\n",
    "\n",
    "print(batch_weights[0][0].shape)\n",
    "print(test_weight.shape)\n",
    "\n",
    "next_layer_shape = (70, 32, 3, 3)\n",
    "\n",
    "reshaped_weight = ___trans_next_conv_layer_forward(test_weight, next_layer_shape)\n",
    "reshaped_back_weight = ___trans_next_conv_layer_backward(reshaped_weight, next_layer_shape)\n",
    "\n",
    "print(\"Are those weights equal: {}\".format(np.array_equal(test_weight, reshaped_back_weight)))"
   ]
  },
  {
   "cell_type": "code",
   "execution_count": 19,
   "metadata": {
    "pycharm": {
     "is_executing": false
    }
   },
   "outputs": [],
   "source": [
    "def compute_full_cnn_accuracy(models, weights, train_dl, test_dl, n_classes, args_model, args_dataset):\n",
    "    \"\"\"Note that we only handle the FC weights for now\"\"\"\n",
    "    # we need to figure out the FC dims first\n",
    "\n",
    "    #LeNetContainer\n",
    "    # def __init__(self, num_filters, kernel_size, input_dim, hidden_dims, output_dim=10)\n",
    "\n",
    "    # this should be safe to be hard-coded since most of the modern image classification dataset are in RGB format\n",
    "    #args_n_nets = len(models)\n",
    "\n",
    "    if args_model == \"lenet\":\n",
    "        num_filters = [weights[0].shape[0], weights[2].shape[0]]\n",
    "        kernel_size = 5\n",
    "        input_dim = weights[4].shape[0]\n",
    "        hidden_dims = [weights[4].shape[1]]\n",
    "\n",
    "        output_dim = weights[-1].shape[0]\n",
    "\n",
    "        logger.info(\"Num filters: {}, Input dim: {}, hidden_dims: {}, output_dim: {}\".format(num_filters, input_dim, hidden_dims, output_dim))\n",
    "\n",
    "        matched_cnn = LeNetContainer(\n",
    "                                    num_filters=num_filters,\n",
    "                                    kernel_size=kernel_size,\n",
    "                                    input_dim=input_dim,\n",
    "                                    hidden_dims=hidden_dims,\n",
    "                                    output_dim=output_dim)\n",
    "    elif args_model == \"vgg\":\n",
    "        matched_shapes = [w.shape for w in weights]\n",
    "        matched_cnn = matched_vgg11(matched_shapes=matched_shapes)\n",
    "    elif args_model == \"simple-cnn\":\n",
    "        # input_channel, num_filters, kernel_size, input_dim, hidden_dims, output_dim=10):\n",
    "        # [(9, 75), (9,), (19, 225), (19,), (475, 123), (123,), (123, 87), (87,), (87, 10), (10,)]\n",
    "        if args_dataset in (\"cifar10\", \"cinic10\"):\n",
    "            input_channel = 3\n",
    "        elif args_dataset == \"mnist\":\n",
    "            input_channel = 1\n",
    "        num_filters = [weights[0].shape[0], weights[2].shape[0]]\n",
    "        input_dim = weights[4].shape[0]\n",
    "        hidden_dims = [weights[4].shape[1], weights[6].shape[1]]\n",
    "        matched_cnn = SimpleCNNContainer(input_channel=input_channel, \n",
    "                                        num_filters=num_filters, \n",
    "                                        kernel_size=5, \n",
    "                                        input_dim=input_dim, \n",
    "                                        hidden_dims=hidden_dims, \n",
    "                                        output_dim=10)\n",
    "    elif args_model == \"moderate-cnn\":\n",
    "        #[(35, 27), (35,), (68, 315), (68,), (132, 612), (132,), (132, 1188), (132,), \n",
    "        #(260, 1188), (260,), (260, 2340), (260,), \n",
    "        #(4160, 1025), (1025,), (1025, 515), (515,), (515, 10), (10,)]\n",
    "        num_filters = [weights[0].shape[0], weights[2].shape[0], weights[4].shape[0], weights[6].shape[0], weights[8].shape[0], weights[10].shape[0]]\n",
    "        input_dim = weights[12].shape[0]\n",
    "        hidden_dims = [weights[12].shape[1], weights[14].shape[1]]\n",
    "        if args_dataset in (\"cifar10\", \"cinic10\"):\n",
    "            matched_cnn = ModerateCNNContainer(3,\n",
    "                                                num_filters, \n",
    "                                                kernel_size=3, \n",
    "                                                input_dim=input_dim, \n",
    "                                                hidden_dims=hidden_dims, \n",
    "                                                output_dim=10)\n",
    "        elif args_dataset == \"mnist\":\n",
    "            matched_cnn = ModerateCNNContainer(1,\n",
    "                                                num_filters, \n",
    "                                                kernel_size=3, \n",
    "                                                input_dim=input_dim, \n",
    "                                                hidden_dims=hidden_dims, \n",
    "                                                output_dim=10)\n",
    "\n",
    "    #logger.info(\"Keys of layers of convblock ...\")\n",
    "    new_state_dict = {}\n",
    "    model_counter = 0\n",
    "    # handle the conv layers part which is not changing\n",
    "    for param_idx, (key_name, param) in enumerate(matched_cnn.state_dict().items()):\n",
    "        #print(\"&\"*30)\n",
    "        #print(\"Key: {}, Weight Shape: {}, Matched weight shape: {}\".format(key_name, param.size(), weights[param_idx].shape))\n",
    "        #print(\"&\"*30)\n",
    "        if \"conv\" in key_name or \"features\" in key_name:\n",
    "            if \"weight\" in key_name:\n",
    "                temp_dict = {key_name: torch.from_numpy(weights[param_idx].reshape(param.size()))}\n",
    "            elif \"bias\" in key_name:\n",
    "                temp_dict = {key_name: torch.from_numpy(weights[param_idx])}\n",
    "        elif \"fc\" in key_name or \"classifier\" in key_name:\n",
    "            if \"weight\" in key_name:\n",
    "                temp_dict = {key_name: torch.from_numpy(weights[param_idx].T)}\n",
    "            elif \"bias\" in key_name:\n",
    "                temp_dict = {key_name: torch.from_numpy(weights[param_idx])}\n",
    "\n",
    "        new_state_dict.update(temp_dict)\n",
    "    matched_cnn.load_state_dict(new_state_dict)\n",
    "\n",
    "    matched_cnn.eval()\n",
    "    ##    \n",
    "    \n",
    "    correct, total = 0, 0\n",
    "    for batch_idx, (x, target) in enumerate(test_dl):\n",
    "        out_k = matched_cnn(x)\n",
    "        _, pred_label = torch.max(out_k, 1)\n",
    "        total += x.data.size()[0]\n",
    "        correct += (pred_label == target.data).sum().item()\n",
    "        \n",
    "    logger.info(\"Accuracy for Neural Matching correct: {}, total: {}\".format(correct, total))\n",
    "    \n",
    "\n",
    "class ModerateCNNContainerConvBlocks(nn.Module):\n",
    "    def __init__(self, num_filters, output_dim=10):\n",
    "        super(ModerateCNNContainerConvBlocks, self).__init__()\n",
    "\n",
    "        self.conv_layer = nn.Sequential(\n",
    "            # Conv Layer block 1\n",
    "            nn.Conv2d(in_channels=3, out_channels=num_filters[0], kernel_size=3, padding=1),\n",
    "            nn.ReLU(inplace=True),\n",
    "            #nn.Conv2d(in_channels=num_filters[0], out_channels=num_filters[1], kernel_size=3, padding=1),\n",
    "            #nn.ReLU(inplace=True),\n",
    "        )\n",
    "\n",
    "    def forward(self, x):\n",
    "        x = self.conv_layer(x)\n",
    "        return x"
   ]
  },
  {
   "cell_type": "code",
   "execution_count": 20,
   "metadata": {
    "pycharm": {
     "is_executing": false
    }
   },
   "outputs": [
    {
     "name": "stderr",
     "text": [
      "<ipython-input-20-d834a371e208>[line:3] INFO Handling layer: 1\n",
      "pfnm.py[line:445] INFO init_channel_kernel_dims: [27, 288, 630, 1197, 1206, 2367, 1025, 516, 10]\n",
      "pfnm.py[line:555] INFO Layer index: 1, init_num_kernel: 32\n",
      "pfnm.py[line:556] INFO weights bias: (32, 28)\n",
      "pfnm.py[line:557] INFO sigma_inv_prior shape: (28,)\n",
      "pfnm.py[line:558] INFO mean_prior shape: (28,)\n",
      "pfnm.py[line:208] INFO Number of global neurons is 34, gamma 5.000000\n",
      "pfnm.py[line:209] INFO ***************Shape of global weights after match: (34, 28) ******************\n",
      "pfnm.py[line:580] INFO Branch A, Layer index: 1, Global weights out shapes: [(34, 27), (34,)]\n",
      "pfnm.py[line:581] INFO global inv sigma out shape: [(34, 27), (34,)]\n"
     ],
     "output_type": "stream"
    }
   ],
   "source": [
    "layer_index = 1\n",
    "model_meta_data = [(32, 3, 3, 3), (32, ), (70, 32, 3, 3), (70,)]\n",
    "logger.info(\"Handling layer: {}\".format(layer_index))\n",
    "layer_hungarian_weights_old, assignment_old, L_next_old = layer_wise_group_descent_comm(\n",
    "     batch_weights=batch_weights, \n",
    "     layer_index=layer_index,\n",
    "     sigma0_layers=sigma0, \n",
    "     sigma_layers=sigma, \n",
    "     batch_frequencies=None, \n",
    "     it=it, \n",
    "     gamma_layers=gamma, \n",
    "     model_meta_data=model_meta_data,\n",
    "     model_layer_type=layer_type,\n",
    "     n_layers=n_layers,\n",
    "     matching_shapes=matching_shapes,\n",
    "     args=None\n",
    "     )\n",
    "matching_shapes_old.append(L_next_old)"
   ]
  },
  {
   "cell_type": "code",
   "execution_count": 21,
   "metadata": {
    "pycharm": {
     "is_executing": false
    }
   },
   "outputs": [
    {
     "name": "stderr",
     "text": [
      "<ipython-input-21-e90e4495ab80>[line:3] INFO Handling layer: 1\n"
     ],
     "output_type": "stream"
    },
    {
     "traceback": [
      "\u001b[1;31m---------------------------------------------------------------------------\u001b[0m",
      "\u001b[1;31mNameError\u001b[0m                                 Traceback (most recent call last)",
      "\u001b[1;32m<ipython-input-21-e90e4495ab80>\u001b[0m in \u001b[0;36m<module>\u001b[1;34m\u001b[0m\n\u001b[0;32m      2\u001b[0m \u001b[0mmodel_meta_data\u001b[0m \u001b[1;33m=\u001b[0m \u001b[1;33m[\u001b[0m\u001b[1;33m(\u001b[0m\u001b[1;36m32\u001b[0m\u001b[1;33m,\u001b[0m \u001b[1;36m3\u001b[0m\u001b[1;33m,\u001b[0m \u001b[1;36m3\u001b[0m\u001b[1;33m,\u001b[0m \u001b[1;36m3\u001b[0m\u001b[1;33m)\u001b[0m\u001b[1;33m,\u001b[0m \u001b[1;33m(\u001b[0m\u001b[1;36m32\u001b[0m\u001b[1;33m,\u001b[0m \u001b[1;33m)\u001b[0m\u001b[1;33m,\u001b[0m \u001b[1;33m(\u001b[0m\u001b[1;36m70\u001b[0m\u001b[1;33m,\u001b[0m \u001b[1;36m32\u001b[0m\u001b[1;33m,\u001b[0m \u001b[1;36m3\u001b[0m\u001b[1;33m,\u001b[0m \u001b[1;36m3\u001b[0m\u001b[1;33m)\u001b[0m\u001b[1;33m,\u001b[0m \u001b[1;33m(\u001b[0m\u001b[1;36m70\u001b[0m\u001b[1;33m,\u001b[0m\u001b[1;33m)\u001b[0m\u001b[1;33m]\u001b[0m\u001b[1;33m\u001b[0m\u001b[1;33m\u001b[0m\u001b[0m\n\u001b[0;32m      3\u001b[0m \u001b[0mlogger\u001b[0m\u001b[1;33m.\u001b[0m\u001b[0minfo\u001b[0m\u001b[1;33m(\u001b[0m\u001b[1;34m\"Handling layer: {}\"\u001b[0m\u001b[1;33m.\u001b[0m\u001b[0mformat\u001b[0m\u001b[1;33m(\u001b[0m\u001b[0mlayer_index\u001b[0m\u001b[1;33m)\u001b[0m\u001b[1;33m)\u001b[0m\u001b[1;33m\u001b[0m\u001b[1;33m\u001b[0m\u001b[0m\n\u001b[1;32m----> 4\u001b[1;33m layer_hungarian_weights_new, assignment_new, L_next_new = layer_wise_group_descent_comm3(\n\u001b[0m\u001b[0;32m      5\u001b[0m      \u001b[0mbatch_weights\u001b[0m\u001b[1;33m=\u001b[0m\u001b[0mbatch_weights\u001b[0m\u001b[1;33m,\u001b[0m\u001b[1;33m\u001b[0m\u001b[1;33m\u001b[0m\u001b[0m\n\u001b[0;32m      6\u001b[0m      \u001b[0mlayer_index\u001b[0m\u001b[1;33m=\u001b[0m\u001b[0mlayer_index\u001b[0m\u001b[1;33m,\u001b[0m\u001b[1;33m\u001b[0m\u001b[1;33m\u001b[0m\u001b[0m\n",
      "\u001b[1;31mNameError\u001b[0m: name 'layer_wise_group_descent_comm3' is not defined"
     ],
     "ename": "NameError",
     "evalue": "name 'layer_wise_group_descent_comm3' is not defined",
     "output_type": "error"
    }
   ],
   "source": [
    "layer_index = 1\n",
    "model_meta_data = [(32, 3, 3, 3), (32, ), (70, 32, 3, 3), (70,)]\n",
    "logger.info(\"Handling layer: {}\".format(layer_index))\n",
    "layer_hungarian_weights_new, assignment_new, L_next_new = layer_wise_group_descent_comm3(\n",
    "     batch_weights=batch_weights, \n",
    "     layer_index=layer_index,\n",
    "     sigma0_layers=sigma0, \n",
    "     sigma_layers=sigma, \n",
    "     batch_frequencies=None, \n",
    "     it=it, \n",
    "     gamma_layers=gamma, \n",
    "     model_meta_data=model_meta_data,\n",
    "     model_layer_type=layer_type,\n",
    "     n_layers=n_layers,\n",
    "     matching_shapes=matching_shapes,\n",
    "     args=None\n",
    "     )\n",
    "matching_shapes_new.append(L_next_new)"
   ]
  },
  {
   "cell_type": "markdown",
   "metadata": {},
   "source": [
    "### Visualizing the Matched Filters here:"
   ]
  },
  {
   "cell_type": "code",
   "execution_count": 23,
   "metadata": {
    "pycharm": {
     "is_executing": false
    }
   },
   "outputs": [
    {
     "traceback": [
      "\u001b[1;31m---------------------------------------------------------------------------\u001b[0m",
      "\u001b[1;31mNameError\u001b[0m                                 Traceback (most recent call last)",
      "\u001b[1;32m<ipython-input-23-5052c8a7feff>\u001b[0m in \u001b[0;36m<module>\u001b[1;34m\u001b[0m\n\u001b[1;32m----> 1\u001b[1;33m \u001b[0mlogger\u001b[0m\u001b[1;33m.\u001b[0m\u001b[0minfo\u001b[0m\u001b[1;33m(\u001b[0m\u001b[1;34m\"Assignment for batch 1: {}\"\u001b[0m\u001b[1;33m.\u001b[0m\u001b[0mformat\u001b[0m\u001b[1;33m(\u001b[0m\u001b[0massignment_new\u001b[0m\u001b[1;33m[\u001b[0m\u001b[1;36m0\u001b[0m\u001b[1;33m]\u001b[0m\u001b[1;33m)\u001b[0m\u001b[1;33m)\u001b[0m\u001b[1;33m\u001b[0m\u001b[1;33m\u001b[0m\u001b[0m\n\u001b[0m\u001b[0;32m      2\u001b[0m \u001b[0mlogger\u001b[0m\u001b[1;33m.\u001b[0m\u001b[0minfo\u001b[0m\u001b[1;33m(\u001b[0m\u001b[1;34m\"\"\u001b[0m\u001b[1;33m)\u001b[0m\u001b[1;33m\u001b[0m\u001b[1;33m\u001b[0m\u001b[0m\n\u001b[0;32m      3\u001b[0m \u001b[0mlogger\u001b[0m\u001b[1;33m.\u001b[0m\u001b[0minfo\u001b[0m\u001b[1;33m(\u001b[0m\u001b[1;34m\"Assignment for batch 2: {}\"\u001b[0m\u001b[1;33m.\u001b[0m\u001b[0mformat\u001b[0m\u001b[1;33m(\u001b[0m\u001b[0massignment_new\u001b[0m\u001b[1;33m[\u001b[0m\u001b[1;36m1\u001b[0m\u001b[1;33m]\u001b[0m\u001b[1;33m)\u001b[0m\u001b[1;33m)\u001b[0m\u001b[1;33m\u001b[0m\u001b[1;33m\u001b[0m\u001b[0m\n\u001b[0;32m      4\u001b[0m \u001b[1;33m\u001b[0m\u001b[0m\n",
      "\u001b[1;31mNameError\u001b[0m: name 'assignment_new' is not defined"
     ],
     "ename": "NameError",
     "evalue": "name 'assignment_new' is not defined",
     "output_type": "error"
    }
   ],
   "source": [
    "logger.info(\"Assignment for batch 1: {}\".format(assignment_new[0]))\n",
    "logger.info(\"\")\n",
    "logger.info(\"Assignment for batch 2: {}\".format(assignment_new[1]))"
   ]
  },
  {
   "cell_type": "code",
   "execution_count": null,
   "metadata": {
    "pycharm": {
     "is_executing": false
    }
   },
   "outputs": [],
   "source": [
    "# it seems the first filter of batch 1 and the 24-rd filter of batch 2 is matched\n",
    "logger.info(assignment_new[0].index(0))\n",
    "logger.info(assignment_new[1].index(0))"
   ]
  },
  {
   "cell_type": "code",
   "execution_count": 24,
   "metadata": {
    "pycharm": {
     "is_executing": false
    }
   },
   "outputs": [],
   "source": [
    "%matplotlib inline\n",
    "\n",
    "import matplotlib\n",
    "import numpy as np\n",
    "import matplotlib.pyplot as plt"
   ]
  },
  {
   "cell_type": "code",
   "execution_count": 25,
   "metadata": {
    "pycharm": {
     "is_executing": false
    }
   },
   "outputs": [
    {
     "name": "stdout",
     "text": [
      "(3, 3, 3)\n"
     ],
     "output_type": "stream"
    }
   ],
   "source": [
    "filter1_batch1 = batch_weights[0][0][0].reshape(3, 3, 3)\n",
    "filter24_batch2 = batch_weights[1][0][23].reshape(3, 3, 3)\n",
    "print(filter1_batch1.shape)"
   ]
  },
  {
   "cell_type": "code",
   "execution_count": 26,
   "metadata": {
    "pycharm": {
     "is_executing": false
    }
   },
   "outputs": [],
   "source": [
    "dumm_conv_block1 = ModerateCNNContainerConvBlocks([32])\n",
    "dumm_conv_block2 = ModerateCNNContainerConvBlocks([32])\n",
    "dumm_conv_block_avg = ModerateCNNContainerConvBlocks([32])\n",
    "dumm_conv_block_matched = ModerateCNNContainerConvBlocks([34])"
   ]
  },
  {
   "cell_type": "code",
   "execution_count": 27,
   "metadata": {
    "pycharm": {
     "is_executing": false
    }
   },
   "outputs": [
    {
     "data": {
      "text/plain": "<All keys matched successfully>"
     },
     "metadata": {},
     "output_type": "execute_result",
     "execution_count": 27
    }
   ],
   "source": [
    "new_state_dict = {}\n",
    "# handle the conv layers part which is not changing\n",
    "for param_idx, (key_name, param) in enumerate(dumm_conv_block1.state_dict().items()):\n",
    "    if \"conv\" in key_name or \"features\" in key_name:\n",
    "        if \"weight\" in key_name:\n",
    "            temp_dict = {key_name: torch.from_numpy(batch_weights[0][param_idx].reshape(param.size()))}\n",
    "        elif \"bias\" in key_name:\n",
    "            temp_dict = {key_name: torch.from_numpy(batch_weights[0][param_idx])}\n",
    "    new_state_dict.update(temp_dict)\n",
    "dumm_conv_block1.load_state_dict(new_state_dict)"
   ]
  },
  {
   "cell_type": "code",
   "execution_count": 28,
   "metadata": {
    "pycharm": {
     "is_executing": false
    }
   },
   "outputs": [
    {
     "data": {
      "text/plain": "<All keys matched successfully>"
     },
     "metadata": {},
     "output_type": "execute_result",
     "execution_count": 28
    }
   ],
   "source": [
    "new_state_dict = {}\n",
    "# handle the conv layers part which is not changing\n",
    "for param_idx, (key_name, param) in enumerate(dumm_conv_block2.state_dict().items()):\n",
    "    if \"conv\" in key_name or \"features\" in key_name:\n",
    "        if \"weight\" in key_name:\n",
    "            temp_dict = {key_name: torch.from_numpy(batch_weights[1][param_idx].reshape(param.size()))}\n",
    "        elif \"bias\" in key_name:\n",
    "            temp_dict = {key_name: torch.from_numpy(batch_weights[1][param_idx])}\n",
    "    new_state_dict.update(temp_dict)\n",
    "dumm_conv_block2.load_state_dict(new_state_dict)"
   ]
  },
  {
   "cell_type": "code",
   "execution_count": 30,
   "metadata": {
    "pycharm": {
     "is_executing": false
    }
   },
   "outputs": [
    {
     "traceback": [
      "\u001b[1;31m---------------------------------------------------------------------------\u001b[0m",
      "\u001b[1;31mNameError\u001b[0m                                 Traceback (most recent call last)",
      "\u001b[1;32m<ipython-input-30-895c62eaf707>\u001b[0m in \u001b[0;36m<module>\u001b[1;34m\u001b[0m\n\u001b[0;32m      1\u001b[0m \u001b[1;31m# our plan is to construct new hungarian weights:\u001b[0m\u001b[1;33m\u001b[0m\u001b[1;33m\u001b[0m\u001b[1;33m\u001b[0m\u001b[0m\n\u001b[1;32m----> 2\u001b[1;33m \u001b[0mmanual_hungarian_weights_new\u001b[0m \u001b[1;33m=\u001b[0m \u001b[1;33m[\u001b[0m\u001b[0mnp\u001b[0m\u001b[1;33m.\u001b[0m\u001b[0mzeros\u001b[0m\u001b[1;33m(\u001b[0m\u001b[0mlhw\u001b[0m\u001b[1;33m.\u001b[0m\u001b[0mshape\u001b[0m\u001b[1;33m)\u001b[0m\u001b[1;33m.\u001b[0m\u001b[0mastype\u001b[0m\u001b[1;33m(\u001b[0m\u001b[0mnp\u001b[0m\u001b[1;33m.\u001b[0m\u001b[0mfloat32\u001b[0m\u001b[1;33m)\u001b[0m \u001b[1;32mfor\u001b[0m \u001b[0mlhw\u001b[0m \u001b[1;32min\u001b[0m \u001b[0mlayer_hungarian_weights_new\u001b[0m\u001b[1;33m]\u001b[0m\u001b[1;33m\u001b[0m\u001b[1;33m\u001b[0m\u001b[0m\n\u001b[0m\u001b[0;32m      3\u001b[0m \u001b[1;32mfor\u001b[0m \u001b[0mmhw\u001b[0m \u001b[1;32min\u001b[0m \u001b[0mmanual_hungarian_weights_new\u001b[0m\u001b[1;33m:\u001b[0m\u001b[1;33m\u001b[0m\u001b[1;33m\u001b[0m\u001b[0m\n\u001b[0;32m      4\u001b[0m     \u001b[0mprint\u001b[0m\u001b[1;33m(\u001b[0m\u001b[0mmhw\u001b[0m\u001b[1;33m.\u001b[0m\u001b[0mshape\u001b[0m\u001b[1;33m)\u001b[0m\u001b[1;33m\u001b[0m\u001b[1;33m\u001b[0m\u001b[0m\n\u001b[0;32m      5\u001b[0m \u001b[0mprint\u001b[0m\u001b[1;33m(\u001b[0m\u001b[0mbatch_weights\u001b[0m\u001b[1;33m[\u001b[0m\u001b[1;36m0\u001b[0m\u001b[1;33m]\u001b[0m\u001b[1;33m[\u001b[0m\u001b[1;36m2\u001b[0m\u001b[1;33m]\u001b[0m\u001b[1;33m.\u001b[0m\u001b[0mshape\u001b[0m\u001b[1;33m)\u001b[0m\u001b[1;33m\u001b[0m\u001b[1;33m\u001b[0m\u001b[0m\n",
      "\u001b[1;31mNameError\u001b[0m: name 'layer_hungarian_weights_new' is not defined"
     ],
     "ename": "NameError",
     "evalue": "name 'layer_hungarian_weights_new' is not defined",
     "output_type": "error"
    }
   ],
   "source": [
    "# our plan is to construct new hungarian weights:\n",
    "manual_hungarian_weights_new = [np.zeros(lhw.shape).astype(np.float32) for lhw in layer_hungarian_weights_new]\n",
    "for mhw in manual_hungarian_weights_new:\n",
    "    print(mhw.shape)\n",
    "print(batch_weights[0][2].shape)"
   ]
  },
  {
   "cell_type": "code",
   "execution_count": null,
   "metadata": {
    "pycharm": {
     "is_executing": false
    }
   },
   "outputs": [],
   "source": [
    "# we now assign value to manual hungarian weights:\n",
    "_ori_shape = (70, 32, 3, 3)\n",
    "_matched_shape = (70, L_next_new, 3, 3)\n",
    "for global_neural_index in range(L_next_new):\n",
    "    if (global_neural_index in assignment_new[0]) and (global_neural_index in assignment_new[1]):\n",
    "        # we need to handle three associated pieces\n",
    "        for idx, mhw in enumerate(manual_hungarian_weights_new):\n",
    "            if len(mhw.shape) == 2:\n",
    "                candidate1 = batch_weights[0][idx][assignment_new[0].index(global_neural_index),:]\n",
    "                candidate2 = batch_weights[1][idx][assignment_new[1].index(global_neural_index),:]\n",
    "                manual_hungarian_weights_new[idx][global_neural_index, :] = 0.5*(candidate1+candidate2)\n",
    "            elif len(mhw.shape) == 1:\n",
    "                manual_hungarian_weights_new[idx][global_neural_index] = 0.5*(batch_weights[0][idx][assignment_new[0].index(global_neural_index)]+batch_weights[1][idx][assignment_new[1].index(global_neural_index)])\n",
    "    else:\n",
    "        if global_neural_index in assignment_new[0]:\n",
    "            for idx, mhw in enumerate(manual_hungarian_weights_new):\n",
    "                if len(mhw.shape) == 2:\n",
    "                    manual_hungarian_weights_new[idx][global_neural_index, :] = batch_weights[0][idx][assignment_new[0].index(global_neural_index),:]\n",
    "                elif len(mhw.shape) == 1:\n",
    "                    manual_hungarian_weights_new[idx][global_neural_index] = batch_weights[0][idx][assignment_new[0].index(global_neural_index)]\n",
    "        else:\n",
    "            for idx, mhw in enumerate(manual_hungarian_weights_new):\n",
    "                if len(mhw.shape) == 2:\n",
    "                    manual_hungarian_weights_new[idx][global_neural_index, :] = batch_weights[1][idx][assignment_new[1].index(global_neural_index),:]\n",
    "                elif len(mhw.shape) == 1:\n",
    "                    manual_hungarian_weights_new[idx][global_neural_index] = batch_weights[1][idx][assignment_new[1].index(global_neural_index)]"
   ]
  },
  {
   "cell_type": "code",
   "execution_count": null,
   "metadata": {
    "pycharm": {
     "is_executing": false
    }
   },
   "outputs": [],
   "source": [
    "new_state_dict = {}\n",
    "# handle the conv layers part which is not changing\n",
    "for param_idx, (key_name, param) in enumerate(dumm_conv_block_matched.state_dict().items()):\n",
    "    if \"conv\" in key_name or \"features\" in key_name:\n",
    "        if \"weight\" in key_name:\n",
    "            #temp_dict = {key_name: torch.from_numpy(layer_hungarian_weights_new[param_idx].reshape(param.size()))}\n",
    "            temp_dict = {key_name: torch.from_numpy(manual_hungarian_weights_new[param_idx].reshape(param.size()))}\n",
    "        elif \"bias\" in key_name:\n",
    "            #temp_dict = {key_name: torch.from_numpy(layer_hungarian_weights_new[param_idx])}\n",
    "            temp_dict = {key_name: torch.from_numpy(manual_hungarian_weights_new[param_idx])}\n",
    "    new_state_dict.update(temp_dict)\n",
    "dumm_conv_block_matched.load_state_dict(new_state_dict)"
   ]
  },
  {
   "cell_type": "code",
   "execution_count": null,
   "metadata": {
    "pycharm": {
     "is_executing": false
    }
   },
   "outputs": [],
   "source": [
    "new_state_dict = {}\n",
    "# handle the conv layers part which is not changing\n",
    "for param_idx, (key_name, param) in enumerate(dumm_conv_block_avg.state_dict().items()):\n",
    "    if \"conv\" in key_name or \"features\" in key_name:\n",
    "        if \"weight\" in key_name:\n",
    "            #temp_dict = {key_name: torch.from_numpy(((0.2*batch_weights[0][param_idx]+0.8*batch_weights[1][param_idx])).reshape(param.size()))}\n",
    "            temp_dict = {key_name: torch.from_numpy(((0.5*batch_weights[0][param_idx]+0.5*batch_weights[1][param_idx])).reshape(param.size()))}\n",
    "        elif \"bias\" in key_name:\n",
    "            #temp_dict = {key_name: torch.from_numpy((0.2*batch_weights[0][param_idx]+0.8*batch_weights[1][param_idx]))}\n",
    "            temp_dict = {key_name: torch.from_numpy((0.5*batch_weights[0][param_idx]+0.5*batch_weights[1][param_idx]))}\n",
    "    new_state_dict.update(temp_dict)\n",
    "dumm_conv_block_avg.load_state_dict(new_state_dict)"
   ]
  },
  {
   "cell_type": "code",
   "execution_count": 35,
   "metadata": {
    "pycharm": {
     "is_executing": false
    }
   },
   "outputs": [
    {
     "name": "stdout",
     "text": [
      "Files already downloaded and verified\n"
     ],
     "output_type": "stream"
    }
   ],
   "source": [
    "from torchvision import datasets, transforms\n",
    "\n",
    "trainset_cifar10 = datasets.CIFAR10(root='../data/cifar10', train=True,\n",
    "                                        download=True, transform=transforms.Compose([\n",
    "               transforms.ToTensor(),\n",
    "               transforms.Normalize((0.5, 0.5, 0.5), (0.5, 0.5, 0.5))\n",
    "           ]))"
   ]
  },
  {
   "cell_type": "code",
   "execution_count": 36,
   "metadata": {
    "pycharm": {
     "is_executing": false
    }
   },
   "outputs": [],
   "source": [
    "%matplotlib inline\n",
    "\n",
    "import matplotlib\n",
    "import numpy as np\n",
    "import matplotlib.pyplot as plt"
   ]
  },
  {
   "cell_type": "code",
   "execution_count": null,
   "metadata": {
    "pycharm": {
     "is_executing": false
    }
   },
   "outputs": [],
   "source": [
    "#imgplot = plt.imshow(trainset_cifar10.data[1])"
   ]
  },
  {
   "cell_type": "code",
   "execution_count": 37,
   "metadata": {
    "pycharm": {
     "is_executing": false
    }
   },
   "outputs": [],
   "source": [
    "transform_train = transforms.Compose([\n",
    "    transforms.ToPILImage(),\n",
    "    transforms.ToTensor(),\n",
    "    ])\n",
    "# load training and test set here:\n",
    "train_loader = torch.utils.data.DataLoader(trainset_cifar10, batch_size=1,\n",
    "                                          shuffle=False)"
   ]
  },
  {
   "cell_type": "code",
   "execution_count": 38,
   "metadata": {
    "pycharm": {
     "is_executing": false
    }
   },
   "outputs": [],
   "source": [
    "for batch_idx, (train_image_batch, train_label_batch) in enumerate(train_loader):\n",
    "    if batch_idx == 1:\n",
    "        trial_example = train_image_batch\n",
    "    #print(train_image_batch.size())"
   ]
  },
  {
   "cell_type": "code",
   "execution_count": 39,
   "metadata": {
    "pycharm": {
     "is_executing": false
    }
   },
   "outputs": [],
   "source": [
    "output_batch1 = dumm_conv_block1(trial_example)\n",
    "output_batch2 = dumm_conv_block2(trial_example)\n",
    "output_avg = dumm_conv_block_avg(trial_example)"
   ]
  },
  {
   "cell_type": "code",
   "execution_count": 40,
   "metadata": {
    "pycharm": {
     "is_executing": false
    }
   },
   "outputs": [],
   "source": [
    "sliced_output_batch1 = output_batch1[0][0].detach().numpy()"
   ]
  },
  {
   "cell_type": "code",
   "execution_count": 41,
   "metadata": {
    "pycharm": {
     "is_executing": false
    }
   },
   "outputs": [
    {
     "data": {
      "text/plain": "Text(0.5, 1.0, 'FedAvg, Filter 0')"
     },
     "metadata": {},
     "output_type": "execute_result",
     "execution_count": 41
    },
    {
     "data": {
      "text/plain": "<Figure size 1080x216 with 5 Axes>",
      "image/png": "[encoded data removed]"
     },
     "metadata": {
      "needs_background": "light"
     },
     "output_type": "display_data"
    }
   ],
   "source": [
    "fig = plt.figure(figsize=(15, 3))\n",
    "plt.subplot(151)\n",
    "plt.imshow(trainset_cifar10.data[1])\n",
    "plt.title(\"Raw Input2\", fontsize=15)\n",
    "plt.subplot(153)\n",
    "plt.imshow(sliced_output_batch1)\n",
    "plt.title(\"Client1, Filter 0\", fontsize=15)\n",
    "plt.subplot(154)\n",
    "sliced_output_batch2 = output_batch2[0][23].detach().numpy()\n",
    "plt.imshow(sliced_output_batch2)\n",
    "plt.title(\"Client2, Filter 23\", fontsize=15)\n",
    "plt.subplot(152)\n",
    "output_batch_matched = dumm_conv_block_matched(trial_example)\n",
    "output_batch_matched = output_batch_matched[0][0].detach().numpy()\n",
    "plt.imshow(output_batch_matched)\n",
    "#plt.title(\"Client1, Filter 0\", fontsize=15)\n",
    "plt.title(\"FedMA filter0\", fontsize=15)\n",
    "plt.subplot(155)\n",
    "output_batch_avg = dumm_conv_block_avg(trial_example)\n",
    "output_batch_avg = output_batch_avg[0][0].detach().numpy()\n",
    "plt.imshow(output_batch_avg)\n",
    "plt.title(\"FedAvg, Filter 0\", fontsize=15)\n",
    "\n"
   ]
  },
  {
   "cell_type": "code",
   "execution_count": 43,
   "metadata": {
    "pycharm": {
     "is_executing": false
    }
   },
   "outputs": [],
   "source": [
    "for batch_idx, (train_image_batch, train_label_batch) in enumerate(train_loader):\n",
    "    if batch_idx == 7:\n",
    "        trial_example = train_image_batch\n",
    "    #print(train_image_batch.size())"
   ]
  },
  {
   "cell_type": "code",
   "execution_count": 44,
   "metadata": {
    "pycharm": {
     "is_executing": false
    }
   },
   "outputs": [],
   "source": [
    "output_batch1 = dumm_conv_block1(trial_example)\n",
    "output_batch2 = dumm_conv_block2(trial_example)\n",
    "output_avg = dumm_conv_block_avg(trial_example)"
   ]
  },
  {
   "cell_type": "code",
   "execution_count": 45,
   "metadata": {
    "pycharm": {
     "is_executing": false
    }
   },
   "outputs": [],
   "source": [
    "sliced_output_batch1 = output_batch1[0][0].detach().numpy()"
   ]
  },
  {
   "cell_type": "code",
   "execution_count": 46,
   "metadata": {
    "pycharm": {
     "is_executing": false
    }
   },
   "outputs": [
    {
     "data": {
      "text/plain": "Text(0.5, 1.0, 'FedAvg, Filter 0')"
     },
     "metadata": {},
     "output_type": "execute_result",
     "execution_count": 46
    },
    {
     "data": {
      "text/plain": "<Figure size 1080x216 with 5 Axes>",
      "image/png": "[encoded data removed]"
     },
     "metadata": {
      "needs_background": "light"
     },
     "output_type": "display_data"
    }
   ],
   "source": [
    "fig = plt.figure(figsize=(15, 3))\n",
    "plt.subplot(151)\n",
    "plt.imshow(trainset_cifar10.data[7])\n",
    "plt.title(\"Raw Input8\", fontsize=15)\n",
    "plt.subplot(153)\n",
    "plt.imshow(sliced_output_batch1)\n",
    "plt.title(\"Client1, Filter 0\", fontsize=15)\n",
    "plt.subplot(154)\n",
    "sliced_output_batch2 = output_batch2[0][23].detach().numpy()\n",
    "plt.imshow(sliced_output_batch2)\n",
    "plt.title(\"Client2, Filter 23\", fontsize=15)\n",
    "plt.subplot(152)\n",
    "output_batch_matched = dumm_conv_block_matched(trial_example)\n",
    "output_batch_matched = output_batch_matched[0][0].detach().numpy()\n",
    "plt.imshow(output_batch_matched)\n",
    "#plt.title(\"Client1, Filter 0\", fontsize=15)\n",
    "plt.title(\"FedMA filter0\", fontsize=15)\n",
    "plt.subplot(155)\n",
    "output_batch_avg = dumm_conv_block_avg(trial_example)\n",
    "output_batch_avg = output_batch_avg[0][0].detach().numpy()\n",
    "plt.imshow(output_batch_avg)\n",
    "plt.title(\"FedAvg, Filter 0\", fontsize=15)\n",
    "for batch_idx, (train_image_batch, train_label_batch) in enumerate(train_loader):\n",
    "    if batch_idx == 7:\n",
    "        trial_example = train_image_batch\n",
    "    #print(train_image_batch.size())"
   ]
  },
  {
   "cell_type": "code",
   "execution_count": 51,
   "outputs": [
    {
     "data": {
      "text/plain": "Text(0.5, 1.0, 'FedAvg, Filter 0')"
     },
     "metadata": {},
     "output_type": "execute_result",
     "execution_count": 51
    },
    {
     "data": {
      "text/plain": "<Figure size 1080x216 with 5 Axes>",
      "image/png": "[encoded data removed]"
     },
     "metadata": {
      "needs_background": "light"
     },
     "output_type": "display_data"
    }
   ],
   "source": [
    "target_index = 100\n",
    "for batch_idx, (train_image_batch, train_label_batch) in enumerate(train_loader):\n",
    "    if batch_idx == target_index:\n",
    "        trial_example = train_image_batch\n",
    "    #print(train_image_batch.size())\n",
    "#%\n",
    "output_batch1 = dumm_conv_block1(trial_example)\n",
    "output_batch2 = dumm_conv_block2(trial_example)\n",
    "output_avg = dumm_conv_block_avg(trial_example)\n",
    "\n",
    "\n",
    "sliced_output_batch1 = output_batch1[0][0].detach().numpy()\n",
    "\n",
    "\n",
    "fig = plt.figure(figsize=(15, 3))\n",
    "plt.subplot(151)\n",
    "plt.imshow(trainset_cifar10.data[target_index])\n",
    "plt.title(\"Raw Input8\", fontsize=15)\n",
    "plt.subplot(153)\n",
    "plt.imshow(sliced_output_batch1)\n",
    "plt.title(\"Client1, Filter 0\", fontsize=15)\n",
    "plt.subplot(154)\n",
    "sliced_output_batch2 = output_batch2[0][23].detach().numpy()\n",
    "plt.imshow(sliced_output_batch2)\n",
    "plt.title(\"Client2, Filter 23\", fontsize=15)\n",
    "plt.subplot(152)\n",
    "output_batch_matched = dumm_conv_block_matched(trial_example)\n",
    "output_batch_matched = output_batch_matched[0][0].detach().numpy()\n",
    "plt.imshow(output_batch_matched)\n",
    "#plt.title(\"Client1, Filter 0\", fontsize=15)\n",
    "plt.title(\"FedMA filter0\", fontsize=15)\n",
    "plt.subplot(155)\n",
    "output_batch_avg = dumm_conv_block_avg(trial_example)\n",
    "output_batch_avg = output_batch_avg[0][0].detach().numpy()\n",
    "plt.imshow(output_batch_avg)\n",
    "plt.title(\"FedAvg, Filter 0\", fontsize=15)"
   ],
   "metadata": {
    "collapsed": false,
    "pycharm": {
     "name": "#%% 显示一个匹配\n",
     "is_executing": false
    }
   }
  }
 ],
 "metadata": {
  "kernelspec": {
   "display_name": "Python 3",
   "language": "python",
   "name": "python3"
  },
  "language_info": {
   "codemirror_mode": {
    "name": "ipython",
    "version": 3
   },
   "file_extension": ".py",
   "mimetype": "text/x-python",
   "name": "python",
   "nbconvert_exporter": "python",
   "pygments_lexer": "ipython3",
   "version": "3.6.8"
  },
  "pycharm": {
   "stem_cell": {
    "cell_type": "raw",
    "source": [],
    "metadata": {
     "collapsed": false
    }
   }
  }
 },
 "nbformat": 4,
 "nbformat_minor": 2
}